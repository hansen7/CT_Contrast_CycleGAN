{
 "cells": [
  {
   "cell_type": "markdown",
   "metadata": {},
   "source": [
    "### in this notebook, we write codes using cyclegan to convert a single images"
   ]
  },
  {
   "cell_type": "code",
   "execution_count": 20,
   "metadata": {},
   "outputs": [],
   "source": [
    "import os, pdb, numpy as np, nibabel as nib, matplotlib.pyplot as plt"
   ]
  },
  {
   "cell_type": "markdown",
   "metadata": {},
   "source": [
    "#### Load the CT image and Convert via Trained CycleGAN"
   ]
  },
  {
   "cell_type": "code",
   "execution_count": 21,
   "metadata": {},
   "outputs": [],
   "source": [
    "ct_id = 'Covid4238_20170112_0_0'\n",
    "nifti_file = os.path.join('./COVID-19/NHSX/nifti', ct_id + '.nii.gz')\n",
    "ctimg = nib.load(nifti_file)\n",
    "\n",
    "output_dir = os.path.join('datasets/contrast2no_new', ct_id)\n",
    "os.makedirs(output_dir, exist_ok=True)"
   ]
  },
  {
   "cell_type": "code",
   "execution_count": 22,
   "metadata": {},
   "outputs": [],
   "source": [
    "ct_arrays = np.array(ctimg.get_fdata())\n",
    "_, _, z_num = ct_arrays.shape\n",
    "for idx in range(z_num):\n",
    "    plt.imsave(os.path.join(output_dir, str(idx) + \".jpg\"), ct_arrays[:,:,idx])\n",
    "\n",
    "result_dir = os.path.join('results', ct_id)"
   ]
  },
  {
   "cell_type": "code",
   "execution_count": 23,
   "metadata": {},
   "outputs": [],
   "source": [
    "exe = 'python test.py ' + '--gpu_ids 6 ' + '--name contrast2no_new ' \\\n",
    "    + '--dataroot %s '%output_dir + '--results_dir %s '%result_dir \\\n",
    "    + '--input_nc 1 --output_nc 1 --load_size 512 --crop_size 512 --model test --no_dropout'"
   ]
  },
  {
   "cell_type": "code",
   "execution_count": 24,
   "metadata": {
    "scrolled": true
   },
   "outputs": [
    {
     "data": {
      "text/plain": [
       "'python test.py --gpu_ids 6 --name contrast2no_new --dataroot datasets/contrast2no_new/Covid4238_20170112_0_0 --results_dir results/Covid4238_20170112_0_0 --input_nc 1 --output_nc 1 --load_size 512 --crop_size 512 --model test --no_dropout'"
      ]
     },
     "execution_count": 24,
     "metadata": {},
     "output_type": "execute_result"
    }
   ],
   "source": [
    "exe"
   ]
  },
  {
   "cell_type": "code",
   "execution_count": 17,
   "metadata": {},
   "outputs": [
    {
     "data": {
      "text/plain": [
       "256"
      ]
     },
     "execution_count": 17,
     "metadata": {},
     "output_type": "execute_result"
    }
   ],
   "source": [
    "# deprecated, not working\n",
    "os.system(exe)"
   ]
  },
  {
   "cell_type": "markdown",
   "metadata": {},
   "source": [
    "### Combine to Generate the Niftis"
   ]
  },
  {
   "cell_type": "code",
   "execution_count": 25,
   "metadata": {},
   "outputs": [],
   "source": [
    "new_data = ct_arrays.copy()"
   ]
  },
  {
   "cell_type": "code",
   "execution_count": 35,
   "metadata": {},
   "outputs": [],
   "source": [
    "imgs = os.listdir(os.path.join(result_dir, 'contrast2no_new', 'test_latest', 'images'))\n",
    "# imgs.sort()"
   ]
  },
  {
   "cell_type": "code",
   "execution_count": 36,
   "metadata": {
    "collapsed": true
   },
   "outputs": [
    {
     "data": {
      "text/plain": [
       "['32_real.png',\n",
       " '61_real.png',\n",
       " '1_real.png',\n",
       " '86_fake.png',\n",
       " '70_real.png',\n",
       " '47_fake.png',\n",
       " '40_real.png',\n",
       " '131_real.png',\n",
       " '50_real.png',\n",
       " '55_fake.png',\n",
       " '10_real.png',\n",
       " '101_real.png',\n",
       " '82_fake.png',\n",
       " '3_fake.png',\n",
       " '123_fake.png',\n",
       " '60_fake.png',\n",
       " '62_fake.png',\n",
       " '15_real.png',\n",
       " '46_fake.png',\n",
       " '92_real.png',\n",
       " '21_real.png',\n",
       " '34_fake.png',\n",
       " '95_fake.png',\n",
       " '31_fake.png',\n",
       " '27_fake.png',\n",
       " '102_real.png',\n",
       " '118_fake.png',\n",
       " '99_fake.png',\n",
       " '21_fake.png',\n",
       " '112_real.png',\n",
       " '37_real.png',\n",
       " '10_fake.png',\n",
       " '120_real.png',\n",
       " '36_real.png',\n",
       " '103_real.png',\n",
       " '15_fake.png',\n",
       " '130_fake.png',\n",
       " '43_fake.png',\n",
       " '121_fake.png',\n",
       " '43_real.png',\n",
       " '30_real.png',\n",
       " '89_real.png',\n",
       " '124_fake.png',\n",
       " '125_real.png',\n",
       " '91_real.png',\n",
       " '14_real.png',\n",
       " '97_fake.png',\n",
       " '28_real.png',\n",
       " '87_fake.png',\n",
       " '58_fake.png',\n",
       " '69_fake.png',\n",
       " '70_fake.png',\n",
       " '71_fake.png',\n",
       " '113_fake.png',\n",
       " '131_fake.png',\n",
       " '64_fake.png',\n",
       " '78_real.png',\n",
       " '6_real.png',\n",
       " '42_fake.png',\n",
       " '111_real.png',\n",
       " '84_real.png',\n",
       " '39_real.png',\n",
       " '54_real.png',\n",
       " '22_real.png',\n",
       " '69_real.png',\n",
       " '77_fake.png',\n",
       " '45_real.png',\n",
       " '105_real.png',\n",
       " '93_fake.png',\n",
       " '2_fake.png',\n",
       " '123_real.png',\n",
       " '96_fake.png',\n",
       " '124_real.png',\n",
       " '72_real.png',\n",
       " '26_real.png',\n",
       " '53_fake.png',\n",
       " '84_fake.png',\n",
       " '22_fake.png',\n",
       " '119_fake.png',\n",
       " '129_real.png',\n",
       " '79_fake.png',\n",
       " '86_real.png',\n",
       " '66_fake.png',\n",
       " '116_real.png',\n",
       " '18_real.png',\n",
       " '59_fake.png',\n",
       " '121_real.png',\n",
       " '75_real.png',\n",
       " '29_fake.png',\n",
       " '125_fake.png',\n",
       " '130_real.png',\n",
       " '88_real.png',\n",
       " '20_fake.png',\n",
       " '77_real.png',\n",
       " '108_real.png',\n",
       " '28_fake.png',\n",
       " '62_real.png',\n",
       " '95_real.png',\n",
       " '54_fake.png',\n",
       " '108_fake.png',\n",
       " '78_fake.png',\n",
       " '50_fake.png',\n",
       " '40_fake.png',\n",
       " '33_fake.png',\n",
       " '76_real.png',\n",
       " '126_real.png',\n",
       " '93_real.png',\n",
       " '8_fake.png',\n",
       " '23_fake.png',\n",
       " '90_real.png',\n",
       " '126_fake.png',\n",
       " '106_fake.png',\n",
       " '52_real.png',\n",
       " '127_fake.png',\n",
       " '94_fake.png',\n",
       " '25_fake.png',\n",
       " '19_real.png',\n",
       " '51_fake.png',\n",
       " '65_real.png',\n",
       " '112_fake.png',\n",
       " '0_real.png',\n",
       " '59_real.png',\n",
       " '0_fake.png',\n",
       " '115_fake.png',\n",
       " '90_fake.png',\n",
       " '36_fake.png',\n",
       " '48_fake.png',\n",
       " '56_real.png',\n",
       " '39_fake.png',\n",
       " '67_real.png',\n",
       " '42_real.png',\n",
       " '34_real.png',\n",
       " '32_fake.png',\n",
       " '109_real.png',\n",
       " '79_real.png',\n",
       " '76_fake.png',\n",
       " '117_real.png',\n",
       " '120_fake.png',\n",
       " '104_fake.png',\n",
       " '13_real.png',\n",
       " '35_real.png',\n",
       " '57_fake.png',\n",
       " '75_fake.png',\n",
       " '7_real.png',\n",
       " '100_fake.png',\n",
       " '100_real.png',\n",
       " '11_fake.png',\n",
       " '72_fake.png',\n",
       " '111_fake.png',\n",
       " '118_real.png',\n",
       " '8_real.png',\n",
       " '74_fake.png',\n",
       " '9_fake.png',\n",
       " '3_real.png',\n",
       " '58_real.png',\n",
       " '80_real.png',\n",
       " '129_fake.png',\n",
       " '24_real.png',\n",
       " '122_fake.png',\n",
       " '104_real.png',\n",
       " '92_fake.png',\n",
       " '4_real.png',\n",
       " '88_fake.png',\n",
       " '46_real.png',\n",
       " '49_real.png',\n",
       " '85_real.png',\n",
       " '98_fake.png',\n",
       " '53_real.png',\n",
       " '110_real.png',\n",
       " '51_real.png',\n",
       " '19_fake.png',\n",
       " '67_fake.png',\n",
       " '87_real.png',\n",
       " '91_fake.png',\n",
       " '94_real.png',\n",
       " '17_fake.png',\n",
       " '37_fake.png',\n",
       " '23_real.png',\n",
       " '106_real.png',\n",
       " '114_fake.png',\n",
       " '83_fake.png',\n",
       " '109_fake.png',\n",
       " '107_fake.png',\n",
       " '49_fake.png',\n",
       " '47_real.png',\n",
       " '1_fake.png',\n",
       " '24_fake.png',\n",
       " '61_fake.png',\n",
       " '33_real.png',\n",
       " '57_real.png',\n",
       " '30_fake.png',\n",
       " '45_fake.png',\n",
       " '82_real.png',\n",
       " '68_real.png',\n",
       " '73_real.png',\n",
       " '16_fake.png',\n",
       " '14_fake.png',\n",
       " '128_fake.png',\n",
       " '4_fake.png',\n",
       " '96_real.png',\n",
       " '31_real.png',\n",
       " '107_real.png',\n",
       " '16_real.png',\n",
       " '128_real.png',\n",
       " '74_real.png',\n",
       " '55_real.png',\n",
       " '97_real.png',\n",
       " '6_fake.png',\n",
       " '29_real.png',\n",
       " '44_real.png',\n",
       " '89_fake.png',\n",
       " '38_real.png',\n",
       " '73_fake.png',\n",
       " '44_fake.png',\n",
       " '127_real.png',\n",
       " '110_fake.png',\n",
       " '98_real.png',\n",
       " '64_real.png',\n",
       " '81_fake.png',\n",
       " '48_real.png',\n",
       " '41_real.png',\n",
       " '99_real.png',\n",
       " '102_fake.png',\n",
       " '65_fake.png',\n",
       " '41_fake.png',\n",
       " '122_real.png',\n",
       " '114_real.png',\n",
       " '27_real.png',\n",
       " '18_fake.png',\n",
       " '9_real.png',\n",
       " '20_real.png',\n",
       " '116_fake.png',\n",
       " '5_real.png',\n",
       " '63_real.png',\n",
       " '5_fake.png',\n",
       " '7_fake.png',\n",
       " '2_real.png',\n",
       " '60_real.png',\n",
       " '52_fake.png',\n",
       " '115_real.png',\n",
       " '80_fake.png',\n",
       " '103_fake.png',\n",
       " '26_fake.png',\n",
       " '35_fake.png',\n",
       " '119_real.png',\n",
       " '56_fake.png',\n",
       " '68_fake.png',\n",
       " '85_fake.png',\n",
       " '66_real.png',\n",
       " '105_fake.png',\n",
       " '71_real.png',\n",
       " '101_fake.png',\n",
       " '38_fake.png',\n",
       " '81_real.png',\n",
       " '17_real.png',\n",
       " '11_real.png',\n",
       " '13_fake.png',\n",
       " '12_fake.png',\n",
       " '12_real.png',\n",
       " '25_real.png',\n",
       " '63_fake.png',\n",
       " '113_real.png',\n",
       " '117_fake.png',\n",
       " '83_real.png']"
      ]
     },
     "execution_count": 36,
     "metadata": {},
     "output_type": "execute_result"
    }
   ],
   "source": [
    "imgs"
   ]
  },
  {
   "cell_type": "code",
   "execution_count": 37,
   "metadata": {},
   "outputs": [],
   "source": [
    "i = 1"
   ]
  },
  {
   "cell_type": "code",
   "execution_count": 40,
   "metadata": {},
   "outputs": [
    {
     "data": {
      "text/plain": [
       "(512, 512, 3)"
      ]
     },
     "execution_count": 40,
     "metadata": {},
     "output_type": "execute_result"
    }
   ],
   "source": [
    "plt.imread(os.path.join(result_dir, 'contrast2no_new', 'test_latest', 'images', '%d_fake.png'%i)).shape"
   ]
  },
  {
   "cell_type": "code",
   "execution_count": 42,
   "metadata": {
    "collapsed": true
   },
   "outputs": [
    {
     "data": {
      "text/plain": [
       "array([[0.10588235, 0.11764706, 0.11372549, ..., 0.10588235, 0.11372549,\n",
       "        0.10980392],\n",
       "       [0.10588235, 0.11372549, 0.11372549, ..., 0.10196079, 0.10588235,\n",
       "        0.10588235],\n",
       "       [0.10980392, 0.11372549, 0.10980392, ..., 0.10980392, 0.10980392,\n",
       "        0.10588235],\n",
       "       ...,\n",
       "       [0.09803922, 0.09803922, 0.09803922, ..., 0.11764706, 0.11764706,\n",
       "        0.11764706],\n",
       "       [0.09803922, 0.09411765, 0.09803922, ..., 0.11372549, 0.12156863,\n",
       "        0.11764706],\n",
       "       [0.09019608, 0.09019608, 0.09803922, ..., 0.11372549, 0.11764706,\n",
       "        0.12156863]], dtype=float32)"
      ]
     },
     "execution_count": 42,
     "metadata": {},
     "output_type": "execute_result"
    }
   ],
   "source": [
    "plt.imread(os.path.join(result_dir, 'contrast2no_new', 'test_latest', 'images', '%d_fake.png'%i))[:,:,0]"
   ]
  },
  {
   "cell_type": "code",
   "execution_count": 44,
   "metadata": {},
   "outputs": [],
   "source": [
    "for i in range(z_num):\n",
    "    img_dir = os.path.join(result_dir, 'contrast2no_new', 'test_latest', 'images')\n",
    "    new_data[:,:,i] = plt.imread(os.path.join(img_dir, '%d_fake.png'%i))[:,:,0]"
   ]
  },
  {
   "cell_type": "code",
   "execution_count": 46,
   "metadata": {},
   "outputs": [],
   "source": [
    "nifti_output_dir = os.path.join('./COVID-19/NHSX/nifti_CycleGAN_Converted', ct_id + '.nii.gz')\n",
    "os.makedirs(nifti_output_dir, exist_ok=True)"
   ]
  },
  {
   "cell_type": "code",
   "execution_count": 51,
   "metadata": {
    "collapsed": true
   },
   "outputs": [
    {
     "ename": "OSError",
     "evalue": "[Errno 39] Directory not empty: 'results/Covid4238_20170112_0_0'",
     "output_type": "error",
     "traceback": [
      "\u001b[0;31m---------------------------------------------------------------------------\u001b[0m",
      "\u001b[0;31mOSError\u001b[0m                                   Traceback (most recent call last)",
      "\u001b[0;32m<ipython-input-51-3ec4f859ca63>\u001b[0m in \u001b[0;36m<module>\u001b[0;34m\u001b[0m\n\u001b[1;32m      1\u001b[0m \u001b[0mclipped_img\u001b[0m \u001b[0;34m=\u001b[0m \u001b[0mnib\u001b[0m\u001b[0;34m.\u001b[0m\u001b[0mNifti1Image\u001b[0m\u001b[0;34m(\u001b[0m\u001b[0mnew_data\u001b[0m\u001b[0;34m,\u001b[0m \u001b[0mctimg\u001b[0m\u001b[0;34m.\u001b[0m\u001b[0maffine\u001b[0m\u001b[0;34m,\u001b[0m \u001b[0mctimg\u001b[0m\u001b[0;34m.\u001b[0m\u001b[0mheader\u001b[0m\u001b[0;34m)\u001b[0m\u001b[0;34m\u001b[0m\u001b[0;34m\u001b[0m\u001b[0m\n\u001b[1;32m      2\u001b[0m \u001b[0mnib\u001b[0m\u001b[0;34m.\u001b[0m\u001b[0msave\u001b[0m\u001b[0;34m(\u001b[0m\u001b[0mclipped_img\u001b[0m\u001b[0;34m,\u001b[0m \u001b[0mos\u001b[0m\u001b[0;34m.\u001b[0m\u001b[0mpath\u001b[0m\u001b[0;34m.\u001b[0m\u001b[0mjoin\u001b[0m\u001b[0;34m(\u001b[0m\u001b[0mnifti_output_dir\u001b[0m\u001b[0;34m,\u001b[0m \u001b[0mct_id\u001b[0m \u001b[0;34m+\u001b[0m \u001b[0;34m'.nii.gz'\u001b[0m\u001b[0;34m)\u001b[0m\u001b[0;34m)\u001b[0m\u001b[0;34m\u001b[0m\u001b[0;34m\u001b[0m\u001b[0m\n\u001b[0;32m----> 3\u001b[0;31m \u001b[0mos\u001b[0m\u001b[0;34m.\u001b[0m\u001b[0mremovedirs\u001b[0m\u001b[0;34m(\u001b[0m\u001b[0mresult_dir\u001b[0m\u001b[0;34m)\u001b[0m\u001b[0;34m\u001b[0m\u001b[0;34m\u001b[0m\u001b[0m\n\u001b[0m",
      "\u001b[0;32m/scratch/hw501/anaconda3/lib/python3.7/os.py\u001b[0m in \u001b[0;36mremovedirs\u001b[0;34m(name)\u001b[0m\n\u001b[1;32m    237\u001b[0m \u001b[0;34m\u001b[0m\u001b[0m\n\u001b[1;32m    238\u001b[0m     \"\"\"\n\u001b[0;32m--> 239\u001b[0;31m     \u001b[0mrmdir\u001b[0m\u001b[0;34m(\u001b[0m\u001b[0mname\u001b[0m\u001b[0;34m)\u001b[0m\u001b[0;34m\u001b[0m\u001b[0;34m\u001b[0m\u001b[0m\n\u001b[0m\u001b[1;32m    240\u001b[0m     \u001b[0mhead\u001b[0m\u001b[0;34m,\u001b[0m \u001b[0mtail\u001b[0m \u001b[0;34m=\u001b[0m \u001b[0mpath\u001b[0m\u001b[0;34m.\u001b[0m\u001b[0msplit\u001b[0m\u001b[0;34m(\u001b[0m\u001b[0mname\u001b[0m\u001b[0;34m)\u001b[0m\u001b[0;34m\u001b[0m\u001b[0;34m\u001b[0m\u001b[0m\n\u001b[1;32m    241\u001b[0m     \u001b[0;32mif\u001b[0m \u001b[0;32mnot\u001b[0m \u001b[0mtail\u001b[0m\u001b[0;34m:\u001b[0m\u001b[0;34m\u001b[0m\u001b[0;34m\u001b[0m\u001b[0m\n",
      "\u001b[0;31mOSError\u001b[0m: [Errno 39] Directory not empty: 'results/Covid4238_20170112_0_0'"
     ]
    }
   ],
   "source": [
    "clipped_img = nib.Nifti1Image(new_data, ctimg.affine, ctimg.header)\n",
    "nib.save(clipped_img, os.path.join(nifti_output_dir, ct_id + '.nii.gz'))\n",
    "os.remove(result_dir)"
   ]
  },
  {
   "cell_type": "code",
   "execution_count": 54,
   "metadata": {},
   "outputs": [],
   "source": [
    "import shutil\n",
    "shutil.rmtree(result_dir)"
   ]
  },
  {
   "cell_type": "code",
   "execution_count": 53,
   "metadata": {},
   "outputs": [],
   "source": [
    "os.removedirs?"
   ]
  },
  {
   "cell_type": "code",
   "execution_count": null,
   "metadata": {},
   "outputs": [],
   "source": []
  }
 ],
 "metadata": {
  "kernelspec": {
   "display_name": "Python 3",
   "language": "python",
   "name": "python3"
  },
  "language_info": {
   "codemirror_mode": {
    "name": "ipython",
    "version": 3
   },
   "file_extension": ".py",
   "mimetype": "text/x-python",
   "name": "python",
   "nbconvert_exporter": "python",
   "pygments_lexer": "ipython3",
   "version": "3.7.3"
  }
 },
 "nbformat": 4,
 "nbformat_minor": 2
}
